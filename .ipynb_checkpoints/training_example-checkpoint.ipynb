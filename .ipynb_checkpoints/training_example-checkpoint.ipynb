{
 "cells": [
  {
   "cell_type": "markdown",
   "metadata": {},
   "source": [
    "# DeepTrajectory training example"
   ]
  },
  {
   "cell_type": "code",
   "execution_count": 4,
   "metadata": {
    "collapsed": true
   },
   "outputs": [],
   "source": [
    "import casp_datafeeder as df\n",
    "import casp_rnn_train_util as ru\n",
    "import os"
   ]
  },
  {
   "cell_type": "markdown",
   "metadata": {},
   "source": [
    "### Data files"
   ]
  },
  {
   "cell_type": "code",
   "execution_count": null,
   "metadata": {
    "collapsed": true
   },
   "outputs": [],
   "source": [
    "# CSV file containing all training and validation data\n",
    "csv_fn = \"../data/casp_normalized_all_data_df.csv\"\n",
    "# Select cross-validation fold 4\n",
    "VALIDATION_TRJS = df.get_validation_set(4, \"../data/cv_folds.csv\")"
   ]
  },
  {
   "cell_type": "markdown",
   "metadata": {},
   "source": [
    "### Model Parameter"
   ]
  },
  {
   "cell_type": "code",
   "execution_count": null,
   "metadata": {
    "collapsed": true
   },
   "outputs": [],
   "source": [
    "# Give each model training run a unique name\n",
    "model_name=\"test_training_cv4\"\n",
    "# Select trajectory features that are used as inputs during training\n",
    "FEATURES = ['N_DOPE', 'N_DOPE_HR', 'N_MOLPDF', 'N_BOND', \n",
    "            'N_ANGLE', 'N_DIHEDRAL', 'N_IMPROPER', 'N_DOOP', \n",
    "            'N_GOAP', 'N_GOAPAG', 'N_CALRW', 'N_CALRWPLUS', \n",
    "            'N_DDFIRESUM', 'N_DDFIRETERM1', 'N_DDFIRETERM2', \n",
    "            'N_DDFIRETERM3', 'N_DDFIRETERM4', \n",
    "            'N_RMSD_SM', 'N_GDTTS_SM']\n",
    "FEATURESIZE = len(FEATURES)\n",
    "# Select which column is the ground truth (Y_)\n",
    "LABEL = \"LABEL_D_GDTTS_COARSE_CRY\"\n",
    "# Compute ALPHASIZE from label column\n",
    "ALPHASIZE=df.get_class_size(csv_fn, LABEL)\n",
    "# Sequence length of the RNN\n",
    "SEQLEN=30\n",
    "# Number of mini-batches\n",
    "BATCHSIZE=50\n",
    "# Internalsize of each GRU cell\n",
    "INTERNALSIZE=1024\n",
    "# Number of stacked hidden layers\n",
    "NLAYERS=3\n",
    "# Learning rate for the training\n",
    "learning_rate=0.0001\n",
    "# Dropout propability\n",
    "dropout_pkeep=0.9\n",
    "# Maximum number of epochs used for training\n",
    "nb_epochs=300\n",
    "# Visualisation of training progress \n",
    "vis_progress_nbatches=1000\n",
    "# Save training progress every 5000 batches\n",
    "save_checkpoint_nbatches=5000\n",
    "\n",
    "\n",
    "\n",
    "# Set weights for loss function\n",
    "class_weights=np.ones(ALPHASIZE)\n",
    "class_weights[0]= 0.05 # improved state class\n",
    "class_weights[1]= 1.0 # no-change state class\n",
    "class_weights[2]= 10 # decreased state class\n",
    "\n",
    "\n"
   ]
  },
  {
   "cell_type": "code",
   "execution_count": null,
   "metadata": {
    "collapsed": true
   },
   "outputs": [],
   "source": [
    "# Create log and checkpoint directories if the do not exist\n",
    "if not os.path.exists(\"../log\"):\n",
    "    os.mkdir(\"../log\")\n",
    "if not os.path.exists(\"../checkpoints\"):\n",
    "    os.mkdir(\"../checkpoints\")\n",
    "    \n",
    "# Specify the log and checkpoint directory \n",
    "log=\"log/\"+model_name\n",
    "checkpoint_dir=\"checkpoints/\"+model_name"
   ]
  },
  {
   "cell_type": "markdown",
   "metadata": {},
   "source": [
    "### Training metrics"
   ]
  },
  {
   "cell_type": "code",
   "execution_count": null,
   "metadata": {
    "collapsed": true
   },
   "outputs": [],
   "source": [
    "metrics=[\"precision_micro\", \"precision_macro\", \"precision_weighted\", \"recall_micro\", \"recall_macro\", \"recall_weighted\", \"f1_micro\", \"f1_macro\", \"f1_weighted\", \"accuracy\"]\n",
    "#add metrics for different individual labels\n",
    "for i in range(3):\n",
    "    p_str = \"class_\"+str(i)+\"_precision\"\n",
    "    r_str = \"class_\"+str(i)+\"_recall\"\n",
    "    f1_str = \"class_\"+str(i)+\"_f1\"\n",
    "    metrics.append(p_str)\n",
    "    metrics.append(r_str)\n",
    "    metrics.append(f1_str)"
   ]
  },
  {
   "cell_type": "code",
   "execution_count": null,
   "metadata": {
    "collapsed": true
   },
   "outputs": [],
   "source": [
    "print \"COMPUTE METRICS:\", metrics"
   ]
  },
  {
   "cell_type": "markdown",
   "metadata": {},
   "source": [
    "### Start training"
   ]
  },
  {
   "cell_type": "code",
   "execution_count": null,
   "metadata": {
    "collapsed": true
   },
   "outputs": [],
   "source": [
    "# Generate model\n",
    "model_desc = ru.model_rnn_in_out_dropout_const_lr_weighted_loss(FEATURESIZE, \n",
    "                                                                     ALPHASIZE, \n",
    "                                                                     model_name, \n",
    "                                                                     SEQLEN, \n",
    "                                                                     BATCHSIZE, \n",
    "                                                                     INTERNALSIZE, \n",
    "                                                                     NLAYERS, \n",
    "                                                                     learning_rate,\n",
    "                                                                     dropout_pkeep, \n",
    "                                                                     class_weights)"
   ]
  },
  {
   "cell_type": "code",
   "execution_count": null,
   "metadata": {
    "collapsed": true
   },
   "outputs": [],
   "source": [
    "# Start training\n",
    "ru.train_rnn(model_desc, \n",
    "             csv_fn, \n",
    "             FEATURES, \n",
    "             LABEL, \n",
    "             VALIDATION_TRJS, \n",
    "             log, \n",
    "             checkpoint_dir,\n",
    "             nb_epochs, \n",
    "             vis_progress_nbatches, \n",
    "             save_checkpoint_nbatches, \n",
    "             checkpoint_fn=None,  \n",
    "             num_save_checkpoint=0, \n",
    "             metrics=metrics, \n",
    "             monitoring_metric=\"class_0_precision\",\n",
    "             track_vali_predictions=False, \n",
    "             track_last_hidden_state=False)"
   ]
  }
 ],
 "metadata": {
  "kernelspec": {
   "display_name": "Python 2",
   "language": "python",
   "name": "python2"
  },
  "language_info": {
   "codemirror_mode": {
    "name": "ipython",
    "version": 2
   },
   "file_extension": ".py",
   "mimetype": "text/x-python",
   "name": "python",
   "nbconvert_exporter": "python",
   "pygments_lexer": "ipython2",
   "version": "2.7.5"
  }
 },
 "nbformat": 4,
 "nbformat_minor": 2
}
